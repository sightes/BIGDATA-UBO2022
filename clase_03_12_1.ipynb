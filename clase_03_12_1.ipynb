{
  "nbformat": 4,
  "nbformat_minor": 0,
  "metadata": {
    "colab": {
      "provenance": [],
      "authorship_tag": "ABX9TyP580vQPvDkBcPqW1LjYxkO",
      "include_colab_link": true
    },
    "kernelspec": {
      "name": "python3",
      "display_name": "Python 3"
    },
    "language_info": {
      "name": "python"
    }
  },
  "cells": [
    {
      "cell_type": "markdown",
      "metadata": {
        "id": "view-in-github",
        "colab_type": "text"
      },
      "source": [
        "<a href=\"https://colab.research.google.com/github/sightes/BIGDATA-UBO2022/blob/main/clase_03_12_1.ipynb\" target=\"_parent\"><img src=\"https://colab.research.google.com/assets/colab-badge.svg\" alt=\"Open In Colab\"/></a>"
      ]
    },
    {
      "cell_type": "code",
      "execution_count": 1,
      "metadata": {
        "colab": {
          "base_uri": "https://localhost:8080/"
        },
        "id": "7x4lcQRU0aIU",
        "outputId": "10e3d16e-0111-43a5-bde1-30dd2a6068f9"
      },
      "outputs": [
        {
          "output_type": "stream",
          "name": "stdout",
          "text": [
            "Mounted at /content/gdrive\n"
          ]
        }
      ],
      "source": [
        "from google.colab import drive \n",
        "drive.mount(\"/content/gdrive\")\n",
        "gdrive='content/gdrive/MyDrive/UBO-BIGDATA2'\n",
        "     "
      ]
    },
    {
      "cell_type": "code",
      "source": [
        "%%capture\n",
        "!apt-get install openjdk-8-jdk-headless -qq > /dev/null\n",
        "!wget 'https://dlcdn.apache.org/spark/spark-3.3.1/spark-3.3.1-bin-hadoop3.tgz' -O 'spark-3.3.1-bin-hadoop3.tgz'\n",
        "!tar -xvf /content/spark-3.3.1-bin-hadoop3.tgz\n",
        "!pip install -q findspark \n",
        "     "
      ],
      "metadata": {
        "id": "NeydPduf04C7"
      },
      "execution_count": 2,
      "outputs": []
    },
    {
      "cell_type": "code",
      "source": [
        "import os \n",
        "os.environ['JAVA_HOME']='/usr/lib/jvm/java-8-openjdk-amd64'\n",
        "os.environ['SPARK_HOME']='/content/spark-3.3.1-bin-hadoop3'"
      ],
      "metadata": {
        "id": "MAay8k2O06vN"
      },
      "execution_count": 3,
      "outputs": []
    },
    {
      "cell_type": "code",
      "source": [
        "import findspark \n",
        "findspark.init()\n",
        "from pyspark.sql import SparkSession\n",
        "spark=SparkSession.builder.master(\"local[*]\").appName(\"ejemplo1\").getOrCreate()"
      ],
      "metadata": {
        "id": "qBeXWIyd1BV1"
      },
      "execution_count": 4,
      "outputs": []
    },
    {
      "cell_type": "code",
      "source": [],
      "metadata": {
        "id": "EsGBKg_8GIyN"
      },
      "execution_count": null,
      "outputs": []
    },
    {
      "cell_type": "code",
      "source": [
        "df=spark.read.csv('/'+gdrive+'/WorldCupPlayers.csv',inferSchema=True,header=True)\n",
        "df.show()"
      ],
      "metadata": {
        "id": "xwx6xkC2CCTE"
      },
      "execution_count": null,
      "outputs": []
    },
    {
      "cell_type": "code",
      "source": [
        "df.printSchema()"
      ],
      "metadata": {
        "colab": {
          "base_uri": "https://localhost:8080/"
        },
        "id": "CHhznZSaDms8",
        "outputId": "e2d17394-21bb-4f20-ea5a-9d9ed7b8e700"
      },
      "execution_count": 10,
      "outputs": [
        {
          "output_type": "stream",
          "name": "stdout",
          "text": [
            "root\n",
            " |-- RoundID: integer (nullable = true)\n",
            " |-- MatchID: integer (nullable = true)\n",
            " |-- Team Initials: string (nullable = true)\n",
            " |-- Coach Name: string (nullable = true)\n",
            " |-- Line-up: string (nullable = true)\n",
            " |-- Shirt Number: integer (nullable = true)\n",
            " |-- Player Name: string (nullable = true)\n",
            " |-- Position: string (nullable = true)\n",
            " |-- Event: string (nullable = true)\n",
            "\n"
          ]
        }
      ]
    },
    {
      "cell_type": "code",
      "source": [
        "df.count()"
      ],
      "metadata": {
        "colab": {
          "base_uri": "https://localhost:8080/"
        },
        "id": "C0M6-fxZELq9",
        "outputId": "c7d71e99-f392-4e41-c445-2b0eabacbf22"
      },
      "execution_count": 11,
      "outputs": [
        {
          "output_type": "execute_result",
          "data": {
            "text/plain": [
              "37784"
            ]
          },
          "metadata": {},
          "execution_count": 11
        }
      ]
    },
    {
      "cell_type": "code",
      "source": [
        "df.select('Player Name','Coach Name').distinct().count()"
      ],
      "metadata": {
        "colab": {
          "base_uri": "https://localhost:8080/"
        },
        "id": "elWKJGH0Fbwe",
        "outputId": "ed5f78e3-5093-4e57-b1eb-5e4514f27a5e"
      },
      "execution_count": 24,
      "outputs": [
        {
          "output_type": "execute_result",
          "data": {
            "text/plain": [
              "9078"
            ]
          },
          "metadata": {},
          "execution_count": 24
        }
      ]
    },
    {
      "cell_type": "code",
      "source": [
        "df.describe('Shirt Number').show()"
      ],
      "metadata": {
        "colab": {
          "base_uri": "https://localhost:8080/"
        },
        "id": "LjtkGRcYEV1V",
        "outputId": "727f27b1-8dba-4f85-8dff-fb03476283fe"
      },
      "execution_count": 14,
      "outputs": [
        {
          "output_type": "stream",
          "name": "stdout",
          "text": [
            "+-------+------------------+\n",
            "|summary|      Shirt Number|\n",
            "+-------+------------------+\n",
            "|  count|             37784|\n",
            "|   mean|10.726021596442939|\n",
            "| stddev| 6.960138422882888|\n",
            "|    min|                 0|\n",
            "|    max|                23|\n",
            "+-------+------------------+\n",
            "\n"
          ]
        }
      ]
    },
    {
      "cell_type": "code",
      "source": [
        "df.filter(df['Team Initials']==\"NED\").show()\n",
        "\n",
        "#equivalente en pandas : df.iloc[np.where(df['Team Initials']==\"NED\")]"
      ],
      "metadata": {
        "colab": {
          "base_uri": "https://localhost:8080/"
        },
        "id": "bL_Iz2BuG6Ir",
        "outputId": "87aaba46-85a0-4ec5-c7e5-bc1fedbf92d0"
      },
      "execution_count": 19,
      "outputs": [
        {
          "output_type": "stream",
          "name": "stdout",
          "text": [
            "+-------+-------+-------------+--------------------+-------+------------+--------------------+--------+-----+\n",
            "|RoundID|MatchID|Team Initials|          Coach Name|Line-up|Shirt Number|         Player Name|Position|Event|\n",
            "+-------+-------+-------------+--------------------+-------+------------+--------------------+--------+-----+\n",
            "|    204|   1133|          NED|GLENDENNING Bob (...|      S|           0|Gejus VAN DER MEULEN|      GK| null|\n",
            "|    204|   1133|          NED|GLENDENNING Bob (...|      S|           0|      Henk PELLIKAAN|    null| null|\n",
            "|    204|   1133|          NED|GLENDENNING Bob (...|      S|           0|           Kick SMIT|    null| G29'|\n",
            "|    204|   1133|          NED|GLENDENNING Bob (...|      S|           0|       Puck VAN HEEL|       C| null|\n",
            "|    204|   1133|          NED|GLENDENNING Bob (...|      S|           0|   Willem ANDERIESEN|    null| null|\n",
            "|    204|   1133|          NED|GLENDENNING Bob (...|      S|           0|         Beb BAKHUYS|    null| null|\n",
            "|    204|   1133|          NED|GLENDENNING Bob (...|      S|           0|     Joop VAN NELLEN|    null| null|\n",
            "|    204|   1133|          NED|GLENDENNING Bob (...|      S|           0|        Sjef VAN RUN|    null| null|\n",
            "|    204|   1133|          NED|GLENDENNING Bob (...|      S|           0|          Leen VENTE|    null| G69'|\n",
            "|    204|   1133|          NED|GLENDENNING Bob (...|      S|           0|          Mauk WEBER|    null| null|\n",
            "|    204|   1133|          NED|GLENDENNING Bob (...|      S|           0|          Frank WELS|    null| null|\n",
            "|    204|   1133|          NED|GLENDENNING Bob (...|      N|           0|      Alex GRAAFLAND|    null| null|\n",
            "|    204|   1133|          NED|GLENDENNING Bob (...|      N|           0|      Wim LANGENDAAL|    null| null|\n",
            "|    204|   1133|          NED|GLENDENNING Bob (...|      N|           0|            Jaap MOL|    null| null|\n",
            "|    204|   1133|          NED|GLENDENNING Bob (...|      N|           0|       Kees MIJNDERS|    null| null|\n",
            "|    204|   1133|          NED|GLENDENNING Bob (...|      N|           0|  Jan VAN DIEPENBEEK|    null| null|\n",
            "|    204|   1133|          NED|GLENDENNING Bob (...|      N|           0|           Leo HALLE|    null| null|\n",
            "|    204|   1133|          NED|GLENDENNING Bob (...|      N|           0|       Toon OPRINSEN|    null| null|\n",
            "|    204|   1133|          NED|GLENDENNING Bob (...|      N|           0|     Arie SCHOEMAKER|    null| null|\n",
            "|    204|   1133|          NED|GLENDENNING Bob (...|      N|           0|    Manus VRAUWDEUNT|    null| null|\n",
            "+-------+-------+-------------+--------------------+-------+------------+--------------------+--------+-----+\n",
            "only showing top 20 rows\n",
            "\n"
          ]
        }
      ]
    },
    {
      "cell_type": "code",
      "source": [
        "df.createOrReplaceTempView(\"temp_view\")\n",
        "spark.sql(\"select * from temp_view where MatchID=1133\").show()"
      ],
      "metadata": {
        "colab": {
          "base_uri": "https://localhost:8080/"
        },
        "id": "lRBojq5iIuIp",
        "outputId": "00ea545c-5f40-4027-c8e5-264587e2c3c4"
      },
      "execution_count": 29,
      "outputs": [
        {
          "output_type": "stream",
          "name": "stdout",
          "text": [
            "+-------+-------+-------------+--------------------+-------+------------+--------------------+--------+--------+\n",
            "|RoundID|MatchID|Team Initials|          Coach Name|Line-up|Shirt Number|         Player Name|Position|   Event|\n",
            "+-------+-------+-------------+--------------------+-------+------------+--------------------+--------+--------+\n",
            "|    204|   1133|          SUI| MUELLER Henry (SUI)|      S|           0|     Frank SECHEHAYE|      GK|    null|\n",
            "|    204|   1133|          NED|GLENDENNING Bob (...|      S|           0|Gejus VAN DER MEULEN|      GK|    null|\n",
            "|    204|   1133|          SUI| MUELLER Henry (SUI)|      S|           0|    Willy VON KAENEL|    null|    null|\n",
            "|    204|   1133|          NED|GLENDENNING Bob (...|      S|           0|      Henk PELLIKAAN|    null|    null|\n",
            "|    204|   1133|          SUI| MUELLER Henry (SUI)|      S|           0|       Walter WEILER|    null|    null|\n",
            "|    204|   1133|          NED|GLENDENNING Bob (...|      S|           0|           Kick SMIT|    null|    G29'|\n",
            "|    204|   1133|          SUI| MUELLER Henry (SUI)|      S|           0|    Severino MINELLI|       C|    null|\n",
            "|    204|   1133|          NED|GLENDENNING Bob (...|      S|           0|       Puck VAN HEEL|       C|    null|\n",
            "|    204|   1133|          SUI| MUELLER Henry (SUI)|      S|           0|      Giuseppe BOSSI|    null|    null|\n",
            "|    204|   1133|          NED|GLENDENNING Bob (...|      S|           0|   Willem ANDERIESEN|    null|    null|\n",
            "|    204|   1133|          SUI| MUELLER Henry (SUI)|      S|           0|    Albert GUINCHARD|    null|    null|\n",
            "|    204|   1133|          NED|GLENDENNING Bob (...|      S|           0|         Beb BAKHUYS|    null|    null|\n",
            "|    204|   1133|          SUI| MUELLER Henry (SUI)|      S|           0|     Ernst HUFSCHMID|    null|    null|\n",
            "|    204|   1133|          NED|GLENDENNING Bob (...|      S|           0|     Joop VAN NELLEN|    null|    null|\n",
            "|    204|   1133|          SUI| MUELLER Henry (SUI)|      S|           0|     Fernand JACCARD|    null|    null|\n",
            "|    204|   1133|          NED|GLENDENNING Bob (...|      S|           0|        Sjef VAN RUN|    null|    null|\n",
            "|    204|   1133|          SUI| MUELLER Henry (SUI)|      S|           0|    Leopold KIELHOLZ|    null|G7' G43'|\n",
            "|    204|   1133|          NED|GLENDENNING Bob (...|      S|           0|          Leen VENTE|    null|    G69'|\n",
            "|    204|   1133|          SUI| MUELLER Henry (SUI)|      S|           0|     Raymond PASELLO|    null|    null|\n",
            "|    204|   1133|          NED|GLENDENNING Bob (...|      S|           0|          Mauk WEBER|    null|    null|\n",
            "+-------+-------+-------------+--------------------+-------+------------+--------------------+--------+--------+\n",
            "only showing top 20 rows\n",
            "\n"
          ]
        }
      ]
    },
    {
      "cell_type": "code",
      "source": [
        "df.printSchema()"
      ],
      "metadata": {
        "colab": {
          "base_uri": "https://localhost:8080/"
        },
        "id": "HmThkbmoJsHI",
        "outputId": "d4f24a18-1023-45d4-a91b-1b3924bd3ffb"
      },
      "execution_count": 30,
      "outputs": [
        {
          "output_type": "stream",
          "name": "stdout",
          "text": [
            "root\n",
            " |-- RoundID: integer (nullable = true)\n",
            " |-- MatchID: integer (nullable = true)\n",
            " |-- Team Initials: string (nullable = true)\n",
            " |-- Coach Name: string (nullable = true)\n",
            " |-- Line-up: string (nullable = true)\n",
            " |-- Shirt Number: integer (nullable = true)\n",
            " |-- Player Name: string (nullable = true)\n",
            " |-- Position: string (nullable = true)\n",
            " |-- Event: string (nullable = true)\n",
            "\n"
          ]
        }
      ]
    },
    {
      "cell_type": "markdown",
      "source": [
        "### Stock Data \n",
        "\n",
        "\n"
      ],
      "metadata": {
        "id": "IE9VVVmPJ28L"
      }
    },
    {
      "cell_type": "code",
      "source": [
        "df=spark.read.csv('/'+gdrive+'/stocks_price_final.csv',sep=',',header=True)\n",
        "df.show()"
      ],
      "metadata": {
        "colab": {
          "base_uri": "https://localhost:8080/"
        },
        "id": "jFQqK-FEJ77T",
        "outputId": "1673b528-5aa3-438f-a365-cbf517a0ebca"
      },
      "execution_count": 31,
      "outputs": [
        {
          "output_type": "stream",
          "name": "stdout",
          "text": [
            "+---+------+----------+---------+---------+---------+---------+-------+---------+----------+-------------+--------------------+--------+\n",
            "|_c0|symbol|      date|     open|     high|      low|    close| volume| adjusted|market.cap|       sector|            industry|exchange|\n",
            "+---+------+----------+---------+---------+---------+---------+-------+---------+----------+-------------+--------------------+--------+\n",
            "|  1|   TXG|2019-09-12|       54|       58|       51|    52.75|7326300|    52.75|    $9.31B|Capital Goods|Biotechnology: La...|  NASDAQ|\n",
            "|  2|   TXG|2019-09-13|    52.75|   54.355|49.150002|    52.27|1025200|    52.27|    $9.31B|Capital Goods|Biotechnology: La...|  NASDAQ|\n",
            "|  3|   TXG|2019-09-16|52.450001|       56|52.009998|55.200001| 269900|55.200001|    $9.31B|Capital Goods|Biotechnology: La...|  NASDAQ|\n",
            "|  4|   TXG|2019-09-17|56.209999|60.900002|   55.423|56.779999| 602800|56.779999|    $9.31B|Capital Goods|Biotechnology: La...|  NASDAQ|\n",
            "|  5|   TXG|2019-09-18|56.849998|    62.27|55.650002|       62|1589600|       62|    $9.31B|Capital Goods|Biotechnology: La...|  NASDAQ|\n",
            "|  6|   TXG|2019-09-19|62.810001|   63.375|61.029999|61.119999| 425200|61.119999|    $9.31B|Capital Goods|Biotechnology: La...|  NASDAQ|\n",
            "|  7|   TXG|2019-09-20|61.709999|62.419998|    59.82|     60.5| 392000|     60.5|    $9.31B|Capital Goods|Biotechnology: La...|  NASDAQ|\n",
            "|  8|   TXG|2019-09-23|60.220001|61.485001|59.939999|60.330002| 137200|60.330002|    $9.31B|Capital Goods|Biotechnology: La...|  NASDAQ|\n",
            "|  9|   TXG|2019-09-24|       61|       61|       54|54.299999| 713800|54.299999|    $9.31B|Capital Goods|Biotechnology: La...|  NASDAQ|\n",
            "| 10|   TXG|2019-09-25|54.459999|55.880001|   52.563|52.759998| 261200|52.759998|    $9.31B|Capital Goods|Biotechnology: La...|  NASDAQ|\n",
            "| 11|   TXG|2019-09-26|52.779999|53.689999|46.619999|49.990002| 596300|49.990002|    $9.31B|Capital Goods|Biotechnology: La...|  NASDAQ|\n",
            "| 12|   TXG|2019-09-27|51.130001|       55|50.700001|51.029999| 621300|51.029999|    $9.31B|Capital Goods|Biotechnology: La...|  NASDAQ|\n",
            "| 13|   TXG|2019-09-30|51.049999|       52|    49.25|50.400002| 168900|50.400002|    $9.31B|Capital Goods|Biotechnology: La...|  NASDAQ|\n",
            "| 14|   TXG|2019-10-01|50.509998|51.919998|       46|47.029999| 536300|47.029999|    $9.31B|Capital Goods|Biotechnology: La...|  NASDAQ|\n",
            "| 15|   TXG|2019-10-02|46.779999|    47.23|45.110001|    46.07| 519600|    46.07|    $9.31B|Capital Goods|Biotechnology: La...|  NASDAQ|\n",
            "| 16|   TXG|2019-10-03|    46.77|48.240002|    45.75|48.119999| 703900|48.119999|    $9.31B|Capital Goods|Biotechnology: La...|  NASDAQ|\n",
            "| 17|   TXG|2019-10-04|       48|    53.34|    47.82|51.450001| 322400|51.450001|    $9.31B|Capital Goods|Biotechnology: La...|  NASDAQ|\n",
            "| 18|   TXG|2019-10-07|52.099998|53.220001|49.029999|50.360001| 476600|50.360001|    $9.31B|Capital Goods|Biotechnology: La...|  NASDAQ|\n",
            "| 19|   TXG|2019-10-08|       50|    51.27|       49|49.549999| 284100|49.549999|    $9.31B|Capital Goods|Biotechnology: La...|  NASDAQ|\n",
            "| 20|   TXG|2019-10-09|49.630001|51.525002|49.575001|50.009998| 201100|50.009998|    $9.31B|Capital Goods|Biotechnology: La...|  NASDAQ|\n",
            "+---+------+----------+---------+---------+---------+---------+-------+---------+----------+-------------+--------------------+--------+\n",
            "only showing top 20 rows\n",
            "\n"
          ]
        }
      ]
    },
    {
      "cell_type": "code",
      "source": [
        "df.printSchema()"
      ],
      "metadata": {
        "colab": {
          "base_uri": "https://localhost:8080/"
        },
        "id": "A0BDsPrsKnaD",
        "outputId": "1d3ce409-6ce3-462c-d223-19d68dff5feb"
      },
      "execution_count": 32,
      "outputs": [
        {
          "output_type": "stream",
          "name": "stdout",
          "text": [
            "root\n",
            " |-- _c0: string (nullable = true)\n",
            " |-- symbol: string (nullable = true)\n",
            " |-- date: string (nullable = true)\n",
            " |-- open: string (nullable = true)\n",
            " |-- high: string (nullable = true)\n",
            " |-- low: string (nullable = true)\n",
            " |-- close: string (nullable = true)\n",
            " |-- volume: string (nullable = true)\n",
            " |-- adjusted: string (nullable = true)\n",
            " |-- market.cap: string (nullable = true)\n",
            " |-- sector: string (nullable = true)\n",
            " |-- industry: string (nullable = true)\n",
            " |-- exchange: string (nullable = true)\n",
            "\n"
          ]
        }
      ]
    },
    {
      "cell_type": "code",
      "source": [
        "from pyspark.sql.types import *\n",
        "dataschema=[\n",
        "StructField('c0', IntegerType(),True),\n",
        "StructField('symbol', StringType(),True),\n",
        "StructField('date', DateType(),True),\n",
        "StructField('open', DoubleType(),True),\n",
        "StructField('high', DoubleType(),True),\n",
        "StructField('low', DoubleType(),True),\n",
        "StructField('close', DoubleType(),True),\n",
        "StructField('volume', IntegerType(),True),\n",
        "StructField('adjusted', DoubleType(),True),\n",
        "StructField('market.cap', StringType(),True),\n",
        "StructField('sector', StringType(),True),\n",
        "StructField('industry', StringType(),True),\n",
        "StructField('exchange', StringType(),True)]\n",
        "final_struct= StructType(fields=dataschema)\n",
        "\n"
      ],
      "metadata": {
        "id": "sn80dib3LDIT"
      },
      "execution_count": null,
      "outputs": []
    },
    {
      "cell_type": "code",
      "source": [
        "df=spark.read.csv('/'+gdrive+'/stocks_price_final.csv',sep=',',header=True,schema=final_struct)\n",
        "df.printSchema()"
      ],
      "metadata": {
        "colab": {
          "base_uri": "https://localhost:8080/"
        },
        "id": "cZl_XGWaPDNV",
        "outputId": "e07bdf9c-9cfa-46d0-de14-edb0e5cc124e"
      },
      "execution_count": 43,
      "outputs": [
        {
          "output_type": "stream",
          "name": "stdout",
          "text": [
            "root\n",
            " |-- c0: integer (nullable = true)\n",
            " |-- symbol: string (nullable = true)\n",
            " |-- date: date (nullable = true)\n",
            " |-- open: double (nullable = true)\n",
            " |-- high: double (nullable = true)\n",
            " |-- low: double (nullable = true)\n",
            " |-- close: double (nullable = true)\n",
            " |-- volume: integer (nullable = true)\n",
            " |-- adjusted: double (nullable = true)\n",
            " |-- market.cap: string (nullable = true)\n",
            " |-- sector: string (nullable = true)\n",
            " |-- industry: string (nullable = true)\n",
            " |-- exchange: string (nullable = true)\n",
            "\n"
          ]
        }
      ]
    },
    {
      "cell_type": "code",
      "source": [
        "df=df.withColumnRenamed('market.cap','market_cap')"
      ],
      "metadata": {
        "id": "Ay8UKYYaQEaJ"
      },
      "execution_count": 46,
      "outputs": []
    },
    {
      "cell_type": "code",
      "source": [
        "df.na.drop()"
      ],
      "metadata": {
        "colab": {
          "base_uri": "https://localhost:8080/"
        },
        "id": "JIuVH-p2QaL4",
        "outputId": "1cc96401-0329-4da1-cd42-7ebdd31565bd"
      },
      "execution_count": 47,
      "outputs": [
        {
          "output_type": "execute_result",
          "data": {
            "text/plain": [
              "DataFrame[c0: int, symbol: string, date: date, open: double, high: double, low: double, close: double, volume: int, adjusted: double, market_cap: string, sector: string, industry: string, exchange: string]"
            ]
          },
          "metadata": {},
          "execution_count": 47
        }
      ]
    },
    {
      "cell_type": "code",
      "source": [
        "df.na.fill(0)"
      ],
      "metadata": {
        "colab": {
          "base_uri": "https://localhost:8080/"
        },
        "id": "DM9cSsiBRGas",
        "outputId": "297c4b40-e71e-4dcd-ec24-f2fb8fdc9924"
      },
      "execution_count": 53,
      "outputs": [
        {
          "output_type": "execute_result",
          "data": {
            "text/plain": [
              "DataFrame[c0: int, symbol: string, date: date, open: double, high: double, low: double, close: double, volume: int, adjusted: double, market_cap: string, sector: string, industry: string, exchange: string]"
            ]
          },
          "metadata": {},
          "execution_count": 53
        }
      ]
    },
    {
      "cell_type": "code",
      "source": [
        "df.dtypes"
      ],
      "metadata": {
        "colab": {
          "base_uri": "https://localhost:8080/"
        },
        "id": "4HppfkoIQ21P",
        "outputId": "7d313513-2a00-4100-adab-3a52e69d9309"
      },
      "execution_count": 48,
      "outputs": [
        {
          "output_type": "execute_result",
          "data": {
            "text/plain": [
              "[('c0', 'int'),\n",
              " ('symbol', 'string'),\n",
              " ('date', 'date'),\n",
              " ('open', 'double'),\n",
              " ('high', 'double'),\n",
              " ('low', 'double'),\n",
              " ('close', 'double'),\n",
              " ('volume', 'int'),\n",
              " ('adjusted', 'double'),\n",
              " ('market_cap', 'string'),\n",
              " ('sector', 'string'),\n",
              " ('industry', 'string'),\n",
              " ('exchange', 'string')]"
            ]
          },
          "metadata": {},
          "execution_count": 48
        }
      ]
    },
    {
      "cell_type": "code",
      "source": [
        "df.first()"
      ],
      "metadata": {
        "colab": {
          "base_uri": "https://localhost:8080/"
        },
        "id": "-J5KbA-4Q6iO",
        "outputId": "4c66d9e2-3782-4a7b-dc7d-b902aae5808d"
      },
      "execution_count": 50,
      "outputs": [
        {
          "output_type": "execute_result",
          "data": {
            "text/plain": [
              "Row(c0=1, symbol='TXG', date=datetime.date(2019, 9, 12), open=54.0, high=58.0, low=51.0, close=52.75, volume=7326300, adjusted=52.75, market_cap='$9.31B', sector='Capital Goods', industry='Biotechnology: Laboratory Analytical Instruments', exchange='NASDAQ')"
            ]
          },
          "metadata": {},
          "execution_count": 50
        }
      ]
    },
    {
      "cell_type": "code",
      "source": [
        "df.columns"
      ],
      "metadata": {
        "colab": {
          "base_uri": "https://localhost:8080/"
        },
        "id": "62AlVaT1RAB2",
        "outputId": "b5b4581c-dc83-4e38-b19e-9daf285cc5e7"
      },
      "execution_count": 52,
      "outputs": [
        {
          "output_type": "execute_result",
          "data": {
            "text/plain": [
              "['c0',\n",
              " 'symbol',\n",
              " 'date',\n",
              " 'open',\n",
              " 'high',\n",
              " 'low',\n",
              " 'close',\n",
              " 'volume',\n",
              " 'adjusted',\n",
              " 'market_cap',\n",
              " 'sector',\n",
              " 'industry',\n",
              " 'exchange']"
            ]
          },
          "metadata": {},
          "execution_count": 52
        }
      ]
    },
    {
      "cell_type": "code",
      "source": [],
      "metadata": {
        "id": "-ms77_ZfRC21"
      },
      "execution_count": null,
      "outputs": []
    }
  ]
}