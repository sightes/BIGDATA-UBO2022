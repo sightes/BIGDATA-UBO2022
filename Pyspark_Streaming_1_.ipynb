{
  "nbformat": 4,
  "nbformat_minor": 0,
  "metadata": {
    "colab": {
      "provenance": [],
      "authorship_tag": "ABX9TyNKFWkh35WOISmxLfy+WhZN",
      "include_colab_link": true
    },
    "kernelspec": {
      "name": "python3",
      "display_name": "Python 3"
    },
    "language_info": {
      "name": "python"
    }
  },
  "cells": [
    {
      "cell_type": "markdown",
      "metadata": {
        "id": "view-in-github",
        "colab_type": "text"
      },
      "source": [
        "<a href=\"https://colab.research.google.com/github/sightes/BIGDATA-UBO2022/blob/main/Pyspark_Streaming_1_.ipynb\" target=\"_parent\"><img src=\"https://colab.research.google.com/assets/colab-badge.svg\" alt=\"Open In Colab\"/></a>"
      ]
    },
    {
      "cell_type": "code",
      "execution_count": 1,
      "metadata": {
        "id": "JXJt9rwKoFnA"
      },
      "outputs": [],
      "source": [
        "%%capture\n",
        "!apt-get install openjdk-8-jdk-headless -qq > /dev/null\n",
        "!wget 'https://dlcdn.apache.org/spark/spark-3.3.1/spark-3.3.1-bin-hadoop3.tgz' -O 'spark-3.3.1-bin-hadoop3.tgz'\n",
        "!tar -xvf /content/spark-3.3.1-bin-hadoop3.tgz\n",
        "!pip install -q findspark \n",
        "import os \n",
        "import findspark \n",
        "os.environ['JAVA_HOME']='/usr/lib/jvm/java-8-openjdk-amd64'\n",
        "os.environ['SPARK_HOME']='/content/spark-3.3.1-bin-hadoop3'\n",
        "findspark.init()          "
      ]
    },
    {
      "cell_type": "code",
      "source": [
        "spark.stop()"
      ],
      "metadata": {
        "id": "Etns4IJqq_Is"
      },
      "execution_count": null,
      "outputs": []
    },
    {
      "cell_type": "code",
      "source": [
        "from pyspark.sql import SparkSession\n",
        "spark=SparkSession.builder\\\n",
        ".master('local')\\\n",
        ".appName('Ejemplo1')\\\n",
        ".config('spark.ui.port',4050).getOrCreate()"
      ],
      "metadata": {
        "id": "CB_eTzu2o21B"
      },
      "execution_count": 2,
      "outputs": []
    },
    {
      "cell_type": "code",
      "source": [
        "from pyspark.sql.types import * \n",
        "schema=StructType([StructField('dato',IntegerType(),True)])"
      ],
      "metadata": {
        "id": "8KybgnBopkud"
      },
      "execution_count": 3,
      "outputs": []
    },
    {
      "cell_type": "code",
      "source": [
        "!mkdir streaming "
      ],
      "metadata": {
        "id": "qSU6vEWwpk0k"
      },
      "execution_count": 4,
      "outputs": []
    },
    {
      "cell_type": "code",
      "source": [
        "people_df=spark.readStream\\\n",
        ".format('csv').schema(schema)\\\n",
        ".option('header',True).load('streaming')"
      ],
      "metadata": {
        "id": "ouUObb17qaft"
      },
      "execution_count": 5,
      "outputs": []
    },
    {
      "cell_type": "code",
      "source": [
        "people_df.isStreaming"
      ],
      "metadata": {
        "colab": {
          "base_uri": "https://localhost:8080/"
        },
        "id": "iL23u-owq1lb",
        "outputId": "81005a83-9560-4fc7-adb4-ebc038665a7a"
      },
      "execution_count": 6,
      "outputs": [
        {
          "output_type": "execute_result",
          "data": {
            "text/plain": [
              "True"
            ]
          },
          "metadata": {},
          "execution_count": 6
        }
      ]
    },
    {
      "cell_type": "code",
      "source": [
        "%%python --bg\n",
        "import time\n",
        "import pandas as pd \n",
        "import numpy as np\n",
        "def aleatorio():\n",
        "  return int(99*np.random.normal(0, 0.1)+1)\n",
        "for n in range(0,100):\n",
        "  pd.DataFrame(np.asarray([aleatorio() for i in range(0,100)]).reshape(-1,1),columns=['dato'])\\\n",
        "  .to_csv('/content/streaming/data'+ str(n)+'.csv' ,index=False)\n",
        "  time.sleep(10)"
      ],
      "metadata": {
        "id": "UzQEz5Ettbna"
      },
      "execution_count": 7,
      "outputs": []
    },
    {
      "cell_type": "code",
      "source": [
        "result_df=people_df.select('*')\n",
        "query=(result_df.writeStream.format('json').queryName('selectTable')\\\n",
        "       .option('checkpointLocation','checkpoint')\\\n",
        "       .option('path','results')\\\n",
        "       .start()\\\n",
        "       .awaitTermination())\n"
      ],
      "metadata": {
        "id": "wTGzm_XmwIq0"
      },
      "execution_count": null,
      "outputs": []
    },
    {
      "cell_type": "code",
      "source": [],
      "metadata": {
        "id": "-vByWag9wgk8"
      },
      "execution_count": null,
      "outputs": []
    }
  ]
}